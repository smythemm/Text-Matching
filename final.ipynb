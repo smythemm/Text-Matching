{
 "cells": [
  {
   "cell_type": "code",
   "execution_count": 3,
   "metadata": {},
   "outputs": [],
   "source": [
    "import datrie\n",
    "import string\n",
    "import sklearn.cluster\n",
    "import pandas as pd\n",
    "import numpy as np\n",
    "import numba as nb\n",
    "import os\n",
    "import warnings\n",
    "\n",
    "from numba import njit, jit\n",
    "from numba.typed import Dict, List\n",
    "from numba import types\n",
    "from openpyxl import Workbook\n",
    "from collections import namedtuple\n",
    "\n",
    "from myLevenshtein import Levenshtein_modified\n",
    "\n",
    "warnings.filterwarnings('ignore')\n",
    "pd.set_option('display.max_columns', None)"
   ]
  },
  {
   "cell_type": "markdown",
   "metadata": {},
   "source": [
    "# ==== 3.1 Tag Name / Value to Tag Master Name / Value Mapping ===="
   ]
  },
  {
   "cell_type": "markdown",
   "metadata": {},
   "source": [
    "- Load all dataset\n",
    "- Simple data pre-processing"
   ]
  },
  {
   "cell_type": "code",
   "execution_count": 179,
   "metadata": {},
   "outputs": [],
   "source": [
    "raw_data = []\n",
    "for dirpath, dirnames, filenames in os.walk('data/Azure'):\n",
    "    for filename in filenames:\n",
    "        df = pd.read_csv(dirpath + '/' + filename, low_memory=False, header=1)\n",
    "        df = df[['Date', 'AccountId', 'AccountName', 'DepartmentId', 'DepartmentName', 'InstanceId', 'ResourceGroup', 'Tags']]\n",
    "        df['ResourceName'] = df['InstanceId'].str.split('/').apply(lambda x: x[-1])\n",
    "        raw_data.append(df.drop(columns=['InstanceId']))\n",
    "raw_data = pd.concat(raw_data)\n",
    "data = raw_data.dropna(subset=['Tags', 'ResourceGroup']).reset_index()"
   ]
  },
  {
   "cell_type": "markdown",
   "metadata": {},
   "source": [
    "- Parse Tags using `numba` to speed up, time-consuming < 4s, which takes around 30s without `numba`\n",
    "- Filter Tag which has no Tag Value"
   ]
  },
  {
   "cell_type": "code",
   "execution_count": 198,
   "metadata": {},
   "outputs": [],
   "source": [
    "numba_dict = Dict.empty(key_type=types.int64, value_type=types.UniTuple(types.string, 2))\n",
    "\n",
    "\n",
    "@jit(nopython=True, nogil=True, parallel=True)\n",
    "def get_all_tags_typed_dict(all_tags_list, numba_dict):\n",
    "    index = np.int64(0)\n",
    "    for tags in all_tags_list:\n",
    "        tags = tags.replace('\"', '')\n",
    "        tags = tags[3:-1].split(',  ')\n",
    "        for tag in tags:\n",
    "            tmp = tag.split(': ')\n",
    "            if tmp[1] != '':\n",
    "                numba_dict[index] = (tmp[0], tmp[1])\n",
    "                index += 1\n",
    "\n",
    "    return numba_dict\n",
    "\n",
    "\n",
    "all_tags_typed_dict = get_all_tags_typed_dict(data['Tags'].tolist(), numba_dict)"
   ]
  },
  {
   "cell_type": "markdown",
   "metadata": {},
   "source": [
    "- Transfer to pandas"
   ]
  },
  {
   "cell_type": "code",
   "execution_count": 181,
   "metadata": {},
   "outputs": [],
   "source": [
    "all_tags_df = pd.DataFrame.from_dict(all_tags_typed_dict, orient='index', columns=['Tag Name', 'Tag Value'])"
   ]
  },
  {
   "cell_type": "markdown",
   "metadata": {},
   "source": [
    "- Define method to get Tag Master Names / Tag Master Values  \n",
    "*Hint:* Use `Affinity Propagation (AP)` to choose Master Names / Values automatically, this method doesn't need to identify the number of clusters"
   ]
  },
  {
   "cell_type": "code",
   "execution_count": 182,
   "metadata": {},
   "outputs": [],
   "source": [
    "def get_master(words, **kwargs):\n",
    "    damping = kwargs.get('damping', 0.5)\n",
    "    max_iter = kwargs.get('max_iter', 200)\n",
    "    convergence_iter = kwargs.get('convergence_iter', 15)\n",
    "    similarity = kwargs.get('similarity', None)\n",
    "    affinity = 'euclidean' if similarity is None else 'precomputed'\n",
    "    preference = kwargs.get('preference', None)\n",
    "\n",
    "    if affinity == 'euclidean':\n",
    "        ap = sklearn.cluster.AffinityPropagation(affinity=affinity,\n",
    "                                                 damping=damping,\n",
    "                                                 max_iter=max_iter,\n",
    "                                                 convergence_iter=convergence_iter).fit(words)\n",
    "    else:\n",
    "        preference = np.median(similarity) if preference is None else preference\n",
    "        ap = sklearn.cluster.AffinityPropagation(affinity=affinity,\n",
    "                                                 damping=damping,\n",
    "                                                 preference=preference,\n",
    "                                                 max_iter=max_iter,\n",
    "                                                 convergence_iter=convergence_iter).fit(similarity)\n",
    "\n",
    "    master = {}\n",
    "    index = 0\n",
    "    for cluster_id in np.unique(ap.labels_):\n",
    "        exemplar = words[ap.cluster_centers_indices_[cluster_id]]\n",
    "        cluster = np.unique(words[np.nonzero(ap.labels_ == cluster_id)])\n",
    "        cluster_str = \", \".join(cluster)\n",
    "        print(\" - *%s:* %s\" % (exemplar, cluster_str))\n",
    "        for point in cluster:\n",
    "            master[index] = {'0': point, '1': exemplar}\n",
    "            index += 1\n",
    "        #     print(Levenshtein_modified(point, exemplar), end=', ')\n",
    "        # print()\n",
    "    return master"
   ]
  },
  {
   "cell_type": "markdown",
   "metadata": {},
   "source": [
    "- Get Tag Master Names\n",
    "- Store result in csv to quickly call and check them conveniently later"
   ]
  },
  {
   "cell_type": "code",
   "execution_count": 183,
   "metadata": {},
   "outputs": [
    {
     "name": "stdout",
     "output_type": "stream",
     "text": [
      " - *Client:* Client, client, x_Client\n",
      " - *ClusterId:* ClusterId\n",
      " - *ClusterName:* ClusterName\n",
      " - *Creator:* Creator, DatabricksInstancePoolCreatorId, x_Creator\n",
      " - *DataFactoryEntityResourceId:* DataFactoryEntityResourceId\n",
      " - *Databricks-ElasticDisk:* Databricks-ElasticDisk\n",
      " - *DatabricksInstanceGroupId:* DatabricksInstanceGroupId\n",
      " - *DatabricksInstancePoolId:* DatabricksInstancePoolId\n",
      " - *Environment:* DatabricksEnvironment, Enviornment, Environment, databricks-environment, environment\n",
      " - *JobId:* JobId\n",
      " - *MappingDataflowRunId:* MappingDataflowRunId\n",
      " - *Product:* Product\n",
      " - *ResourceClass:* ResourceClass\n",
      " - *RunName:* RunName\n",
      " - *Service:* Service, x_Service\n",
      " - *SqlEndpointId:* SqlEndpointId\n",
      " - *Type:* Type, type, x_Type\n",
      " - *Vendor:* Vendor\n",
      " - *application:* application\n",
      " - *createdBy:* createdBy\n",
      " - *databricks-instance-name:* databricks-instance-name\n",
      " - *dbsql-channel:* dbsql-channel\n",
      " - *hidden-link:/subscriptions/f6650bec-0252-45ce-b7ce-8fff251c4dad/resourcegroups/OldMutual/providers/microsoft.insights/components/waweprodom:* hidden-link:/subscriptions/f6650bec-0252-45ce-b7ce-8fff251c4dad/resourcegroups/OldMutual/providers/microsoft.insights/components/waweprodom\n",
      " - *hidden-link:/subscriptions/f6650bec-0252-45ce-b7ce-8fff251c4dad/resourcegroups/OldMutual/providers/microsoft.insights/webtests/om-avail-waweprodom:* hidden-link:/subscriptions/f6650bec-0252-45ce-b7ce-8fff251c4dad/resourcegroups/OldMutual/providers/microsoft.insights/webtests/om-avail-waweprodom\n",
      " - *ms-resource-usage:* ms-resource-usage\n"
     ]
    }
   ],
   "source": [
    "tag_names = all_tags_df.groupby('Tag Name')['Tag Value'].count().to_dict()\n",
    "words = np.asarray(list(tag_names.keys()))\n",
    "similarity = [[-Levenshtein_modified(w1, w2, True) for w2 in words] for w1 in words]\n",
    "tmp = list(tag_names.values())\n",
    "tmp_sum = np.sum(tmp)\n",
    "preference = [-(1 - i / tmp_sum)*3 for i in tmp]\n",
    "\n",
    "master_names_dict = get_master(words, similarity=similarity, preference=preference)\n",
    "master_names_df = pd.DataFrame.from_dict(master_names_dict, orient='index')\n",
    "master_names_df.columns = ['Tag Name', 'Tag Master Name']\n",
    "master_names_df.to_csv('./result/Tag Master Names.csv', sep=',', header=True, index=False)"
   ]
  },
  {
   "cell_type": "markdown",
   "metadata": {},
   "source": [
    "- Get Tag Master Values for some Tag Master Names, which can be changed"
   ]
  },
  {
   "cell_type": "code",
   "execution_count": 185,
   "metadata": {},
   "outputs": [
    {
     "name": "stdout",
     "output_type": "stream",
     "text": [
      " - *ARM:* ARM\n",
      " - *Absa:* ABSA, ABSACF, ABSACLOUD313, ABSACLOUDQA, ABSARBB, Absa\n",
      " - *Alexander Forbes:* Alexander Forbes\n",
      " - *Blue Label Telecoms:* Blue Label Telecoms\n",
      " - *CCBA:* CCBA, CCBACloud, ccba\n",
      " - *Carlisle:* Carlisle\n",
      " - *Discovery:* Discovery\n",
      " - *Edcon:* Edcon\n",
      " - *Ellix:* Ellix\n",
      " - *Exxaro:* Exxaro\n",
      " - *HCC:* HC, HCC\n",
      " - *Internal:* Internal, Internal - Cloud, Internal - Multi-Dim, Internal - Scenarios\n",
      " - *Internal - Pentest:* Internal - Pentest, Pentest\n",
      " - *Investec:* Investec\n",
      " - *KMOD:* KMOD\n",
      " - *Liberty:* Liberty\n",
      " - *Massmart:* Massmart\n",
      " - *NTT:* NTT\n",
      " - *National Life:* National Life\n",
      " - *OECD:* OECD, oecd\n",
      " - *Old Mutual:* OLD MUTUAL, Old Mutual, OldMutual\n",
      " - *QAmultidim:* QA multidim hybrid, QAmultidim, qa multidim hybrid, qamultidim\n",
      " - *RMB:* RMB\n",
      " - *SANDBOX:* SANDBOX\n",
      " - *SPAR:* SPAR, SPARCLOUD, Spar, sparcloud\n",
      " - *Sanlam:* Sanlam\n",
      " - *Shared:* Shared, Shared Services\n",
      " - *Stanlib:* STANLIB, Stanlib, stanlib\n",
      " - *Suncorp:* Suncorp\n",
      " - *TFG:* TFG\n",
      " - *Vitality:* Vitality\n",
      " - *pb3Test:* pb3Test, pb3test\n",
      " - *qa bnf:* qa bnf, qabnf\n",
      " - *qa cloud:* qa cloud, qacloud\n",
      " - *qa313:* QA313, qa313\n",
      " - *qa314:* QA314, qa314\n",
      " - *qaauto:* qaauto\n",
      " - *Dedicated:* Dedicated\n",
      " - *Shared:* Shared\n"
     ]
    }
   ],
   "source": [
    "master_names = ['Client', 'Type']\n",
    "master_values_df = []\n",
    "for master_name in master_names:\n",
    "    tag_values = all_tags_df[all_tags_df['Tag Name'].str.contains('|'.join(master_names_df[master_names_df['Tag Master Name'] == master_name]['Tag Name']))]\n",
    "    tag_values = tag_values.groupby('Tag Value')['Tag Name'].count()\n",
    "    tag_values = tag_values[tag_values>5].to_dict()\n",
    "\n",
    "    words = np.asarray(list(tag_values.keys()))\n",
    "    similarity = [[-Levenshtein_modified(w1, w2, True) for w2 in words] for w1 in words]\n",
    "    tmp = list(tag_values.values())\n",
    "    tmp_sum = np.sum(tmp)\n",
    "    preference = [-(1 - i / tmp_sum) for i in tmp]\n",
    "\n",
    "    master_values_dict = get_master(words, similarity=similarity, preference=preference)\n",
    "    tmp = pd.DataFrame.from_dict(master_values_dict, orient='index')\n",
    "    tmp.columns = ['Tag Value', 'Tag Master Value']\n",
    "    tmp['Tag Master Name'] = [master_name] * len(tmp)\n",
    "    master_values_df.append(tmp)\n",
    "\n",
    "master_values_df = pd.concat(master_values_df, ignore_index=True)\n",
    "master_values_df.to_csv('./result/Tag Master Values.csv', sep=',', header=True, index=False)"
   ]
  },
  {
   "cell_type": "markdown",
   "metadata": {},
   "source": [
    "- Match Tag Name to Tag Master Name & give matching percentage\n",
    "- Store Tag Master Value in Trie to quickly find whether one string exsits, whose time complexity is *O(n)*"
   ]
  },
  {
   "cell_type": "code",
   "execution_count": 186,
   "metadata": {},
   "outputs": [],
   "source": [
    "trie1 = datrie.Trie(string.ascii_letters + string.digits)\n",
    "master_names_df = pd.read_csv('./result/Tag Master Names.csv', low_memory=False)\n",
    "master_names = master_names_df['Tag Master Name'].unique()\n",
    "for i in range(len(master_names)):\n",
    "    trie1[''.join(filter(str.isalnum, str(master_names[i]).lower()))] = i\n",
    "trie1.save('./result/Tag Master Name Trie.txt')\n",
    "\n",
    "trie2 = datrie.Trie(string.ascii_letters + string.digits)\n",
    "master_values_df = pd.read_csv('./result/Tag Master Values.csv', low_memory=False)\n",
    "master_values = master_values_df['Tag Master Value'].unique()\n",
    "for i in range(len(master_values)):\n",
    "    trie2[''.join(filter(str.isalnum, str(master_values[i]).lower()))] = i\n",
    "trie2.save('./result/Tag Master Value Trie.txt')"
   ]
  },
  {
   "cell_type": "code",
   "execution_count": 187,
   "metadata": {},
   "outputs": [
    {
     "data": {
      "text/plain": [
       "array([['databricks-instance-name', '6.0', '75.00%'],\n",
       "       ['DatabricksInstancePoolId', '8.0', '66.67%'],\n",
       "       ['DatabricksInstanceGroupId', '9.0', '64.00%'],\n",
       "       ['Databricks-ElasticDisk', '9.0', '59.09%']], dtype='<U32')"
      ]
     },
     "execution_count": 187,
     "metadata": {},
     "output_type": "execute_result"
    }
   ],
   "source": [
    "trie = datrie.Trie.load('./result/Tag Master Name Trie.txt')\n",
    "tag = 'DatabrickInstace'\n",
    "tag = ''.join(filter(str.isalnum, tag.lower()))\n",
    "test_list = [tag[i:i + 4] for i in range(len(tag))]\n",
    "\n",
    "suggestion = []\n",
    "for t in test_list:\n",
    "    res = trie.items(t)\n",
    "    for r in res:\n",
    "        master = master_names[r[1]]\n",
    "        distance = Levenshtein_modified(tag, master)\n",
    "        percentage = (1 - distance / max(len(master), len(tag))) * 100\n",
    "        if distance != 1000:\n",
    "            suggestion.append([master, distance, f'{percentage:.2f}%'])\n",
    "suggestion = np.array(suggestion)\n",
    "suggestion = suggestion[np.argsort(suggestion[:, 2])][::-1]\n",
    "suggestion"
   ]
  },
  {
   "cell_type": "code",
   "execution_count": 188,
   "metadata": {},
   "outputs": [
    {
     "data": {
      "text/plain": [
       "array([['Absa', '11.0', '26.67%']], dtype='<U32')"
      ]
     },
     "execution_count": 188,
     "metadata": {},
     "output_type": "execute_result"
    }
   ],
   "source": [
    "trie = datrie.Trie.load('./result/Tag Master Value Trie.txt')\n",
    "tag = 'waweabsacfadmin'\n",
    "tag = ''.join(filter(str.isalnum, tag.lower()))\n",
    "test_list = [tag[i:i + 4] for i in range(len(tag))]\n",
    "\n",
    "suggestion = []\n",
    "for t in test_list:\n",
    "    res = trie.items(t)\n",
    "    for r in res:\n",
    "        master = master_values[r[1]]\n",
    "        distance = Levenshtein_modified(tag, master)\n",
    "        percentage = (1 - distance / max(len(master), len(tag))) * 100\n",
    "        if distance != 1000:\n",
    "            suggestion.append([master, distance, f'{percentage:.2f}%'])\n",
    "suggestion = np.array(suggestion)\n",
    "suggestion = suggestion[np.argsort(suggestion[:, 2])][::-1]\n",
    "suggestion"
   ]
  },
  {
   "cell_type": "markdown",
   "metadata": {},
   "source": [
    "# ==== 3.2 MO Code & CC Code Matching ===="
   ]
  },
  {
   "cell_type": "markdown",
   "metadata": {},
   "source": [
    "- Load dataset\n",
    "- Parse \"cloud_tags\" to extract \"resourcetags_user_costcenter\" & \"resourcetags_user_appid\""
   ]
  },
  {
   "cell_type": "code",
   "execution_count": 12,
   "metadata": {},
   "outputs": [],
   "source": [
    "# AWS raw data is too large and we only need the column of 'cloud_tags'\n",
    "data_aws = pd.read_excel('./data/Sample Data for AWS Private and Confidential.xlsx', sheet_name='Tags Extracted')\n",
    "data_aws = data_aws.dropna().reset_index()\n",
    "\n",
    "data_aws_mo = pd.read_excel('./data/Sample Data for AWS Private and Confidential.xlsx', sheet_name='measured object hierarchy - 202')\n",
    "data_aws_mo = data_aws_mo.dropna(subset=['MeasuredObjectCode']).reset_index()\n",
    "\n",
    "data_aws_cc = pd.read_excel('./data/Sample Data for AWS Private and Confidential.xlsx', sheet_name='cost centre hierarchy - 2022062')\n",
    "data_aws_cc = data_aws_cc.dropna(subset=['CostCentreCode']).reset_index()"
   ]
  },
  {
   "cell_type": "code",
   "execution_count": null,
   "metadata": {},
   "outputs": [],
   "source": [
    "@jit(nopython=True, nogil=True, parallel=True)\n",
    "def get_costcenter_appid(all_tags_list):\n",
    "    index = np.int64(0)\n",
    "    costercenter, appid = [], []\n",
    "    for tags in all_tags_list:\n",
    "        tags = (tags.replace('\"', '')).replace('\\\\', '')\n",
    "        tags = tags[1:-1].split(', ')\n",
    "        for tag in tags:\n",
    "            tmp = tag.split(' : ')\n",
    "            if tmp[0] == 'resourcetags_user_costcenter':\n",
    "                costercenter.append(tmp[1])\n",
    "            if tmp[0] == 'resourcetags_user_appid':\n",
    "                appid.append(tmp[1])\n",
    "\n",
    "    return costercenter, appid\n",
    "\n",
    "costercenter, appid = get_costcenter_appid(data_aws['cloud_tags'].to_list())\n",
    "costercenter, appid = np.unique(costercenter), np.unique(appid)"
   ]
  },
  {
   "cell_type": "markdown",
   "metadata": {},
   "source": [
    "- Store Measured Object Code & Cost Centre Code in Trie"
   ]
  },
  {
   "cell_type": "code",
   "execution_count": null,
   "metadata": {},
   "outputs": [],
   "source": [
    "mo = data_aws_mo['MeasuredObjectCode'].astype(str).unique()\n",
    "cc = data_aws_cc['CostCentreCode'].astype(str).unique()\n",
    "\n",
    "# 10: MeasuredObjectCode\n",
    "# 01: CostCentreCode\n",
    "# 11: is both MeasuredObjectCode and CostCentreCode\n",
    "trie = datrie.Trie(string.ascii_letters + string.digits + ' -_')\n",
    "for m in mo:\n",
    "    trie[m] = 10\n",
    "for c in cc:\n",
    "    trie[c] = 11 if c in trie else 1"
   ]
  },
  {
   "cell_type": "markdown",
   "metadata": {},
   "source": [
    "- Check each 'resourcetags_user_costcenter' & 'resourcetags_user_appid' value\n",
    "- Store results in xlsx"
   ]
  },
  {
   "cell_type": "code",
   "execution_count": null,
   "metadata": {},
   "outputs": [],
   "source": [
    "def mo_cc_match(test_values, test_name, writer, sheet_name):\n",
    "    res = {}\n",
    "    index = 0\n",
    "    for c in test_values:\n",
    "        tmp = trie[str(c)] if str(c) in trie else 0\n",
    "        match1 = c if tmp // 10 else 'No'\n",
    "        match2 = c if tmp % 10 else 'No'\n",
    "        res[index] = (c, match1, match2)\n",
    "        index += 1\n",
    "    res = pd.DataFrame(res).T\n",
    "    res.columns = [test_name, 'MO Code Match', 'CC Code Match']\n",
    "    res.to_excel(writer, sheet_name=sheet_name, index=False)"
   ]
  },
  {
   "cell_type": "code",
   "execution_count": null,
   "metadata": {},
   "outputs": [],
   "source": [
    "file_name = './result/MO_CC Code Match.xlsx'\n",
    "if not os.path.exists(file_name):\n",
    "    Workbook().save(file_name)\n",
    "writer = pd.ExcelWriter(file_name, engine='openpyxl', mode='w')\n",
    "mo_cc_match(costercenter, 'resourcetags_user_costcenter', writer, 'user_costcenter')\n",
    "mo_cc_match(appid, 'resourcetags_user_appid', writer, 'user_appid')\n",
    "writer.save()"
   ]
  },
  {
   "cell_type": "markdown",
   "metadata": {},
   "source": [
    "# ==== 3.3 Unique Tag Value Check ===="
   ]
  },
  {
   "cell_type": "code",
   "execution_count": 189,
   "metadata": {},
   "outputs": [],
   "source": [
    "data_unique = pd.read_excel('./data/3.3 MagicOrange Unique Tag Value Use Case Sample Set.xlsx', sheet_name='3.3 Unstructured Results')"
   ]
  },
  {
   "cell_type": "markdown",
   "metadata": {},
   "source": [
    "- Delete rows where all both 'ResourceGroup' and 'Resource' are missing\n",
    "- Filter duplicated data"
   ]
  },
  {
   "cell_type": "code",
   "execution_count": 190,
   "metadata": {},
   "outputs": [],
   "source": [
    "data_unique.dropna(how='all', inplace=True)\n",
    "data_unique.drop_duplicates(inplace=True)\n"
   ]
  },
  {
   "cell_type": "markdown",
   "metadata": {},
   "source": [
    "- Check the resource number if unique and there are no items missing in sequence or in the run"
   ]
  },
  {
   "cell_type": "code",
   "execution_count": 191,
   "metadata": {},
   "outputs": [
    {
     "name": "stdout",
     "output_type": "stream",
     "text": [
      "Warning: ResourceGroup ['CLOUDPOC', 'cloud', 'ellix'] need to be assigned with ResourceName\n",
      "Warning: ResourceName ['Resource-014'] need to be mapped to ResourceGroup\n",
      "Warning: ResourceName ['Resource-001', 'Resource-007', 'Resource-015'] are mapped to more than one ResourceGroup\n"
     ]
    }
   ],
   "source": [
    "df = data_unique.copy()\n",
    "\n",
    "# find ResourceGroup with no ResourceName\n",
    "tmp = df[df['Resource'].isnull()]\n",
    "print(f'Warning: ResourceGroup {tmp[\"ResourceGroup\"].to_list()} need to be assigned with ResourceName')\n",
    "\n",
    "# find ResourceName with no ResourceGroup mapped\n",
    "tmp = df[df['ResourceGroup'].isnull()]\n",
    "print(f'Warning: ResourceName {tmp[\"Resource\"].to_list()} need to be mapped to ResourceGroup')\n",
    "\n",
    "# find ResourceGroup are assigned with more than one ResourceName\n",
    "tmp = []\n",
    "for key, group in df.groupby('ResourceGroup'):\n",
    "    if len(group)>1:\n",
    "        tmp.append(key)\n",
    "if len(tmp):\n",
    "    print(f'Warning: ResourceGroup {tmp} are assigned with more than one ResourceName')\n",
    "\n",
    "# find ResourceName are mapped to more than one ResourceGroup\n",
    "tmp = []\n",
    "for key, group in df.groupby('Resource'):\n",
    "    if len(group) > 1:\n",
    "        tmp.append(key)\n",
    "if len(tmp):\n",
    "    print(f'Warning: ResourceName {tmp} are mapped to more than one ResourceGroup')\n"
   ]
  },
  {
   "cell_type": "code",
   "execution_count": 192,
   "metadata": {},
   "outputs": [
    {
     "name": "stdout",
     "output_type": "stream",
     "text": [
      "Warning: there is no ResourceName in periods: [30, 33] [39, 40] "
     ]
    }
   ],
   "source": [
    "# check the ResourceName sequence\n",
    "# Resource-001\n",
    "# last three digits are the sequence number\n",
    "df = data_unique.copy()\n",
    "df = df.dropna(subset=['Resource'])\n",
    "df['Resource'] = df['Resource'].apply(lambda x: int(x[-3:]) if isinstance(x, str) and len(x) > 3 and x[-3:].isdigit() else -1000)\n",
    "\n",
    "tmp = df[df['Resource'] == -1000]\n",
    "if len(tmp):\n",
    "    print(f'Warning: please check whether the ResourceName for ResourceGroup {tmp[\"ResourceGroup\"].to_list()} is in right format')\n",
    "\n",
    "tmp = df[df['Resource'] != -1000]\n",
    "tmp = df.sort_values(by='Resource', ascending=True)\n",
    "if tmp.loc[0]['Resource'] != 1:\n",
    "    print('Warning: the ResourceName sequence is not begin with 1')\n",
    "tmp = tmp.drop_duplicates(subset=['Resource']).reset_index()\n",
    "continuous_check = tmp['Resource'] - tmp['Resource'].shift()\n",
    "continuous_check = continuous_check[continuous_check > 1]\n",
    "if len(continuous_check):\n",
    "    print('Warning: there is no ResourceName in periods:', end=' ')\n",
    "    for i in continuous_check.keys():\n",
    "        print(f'[{tmp.loc[i-1][\"Resource\"]+1}, {tmp.loc[i][\"Resource\"]-1}]', end=' ')"
   ]
  },
  {
   "cell_type": "markdown",
   "metadata": {},
   "source": [
    "# ==== 3.4 Tag Suggestions ===="
   ]
  },
  {
   "cell_type": "code",
   "execution_count": 193,
   "metadata": {},
   "outputs": [],
   "source": [
    "data_suggest = pd.read_excel('./data/Resource Group Resource Name Tag Value Matches Azure Data Sample 20062022.xlsx')"
   ]
  },
  {
   "cell_type": "code",
   "execution_count": 196,
   "metadata": {},
   "outputs": [
    {
     "data": {
      "text/html": [
       "<div>\n",
       "<style scoped>\n",
       "    .dataframe tbody tr th:only-of-type {\n",
       "        vertical-align: middle;\n",
       "    }\n",
       "\n",
       "    .dataframe tbody tr th {\n",
       "        vertical-align: top;\n",
       "    }\n",
       "\n",
       "    .dataframe thead th {\n",
       "        text-align: right;\n",
       "    }\n",
       "</style>\n",
       "<table border=\"1\" class=\"dataframe\">\n",
       "  <thead>\n",
       "    <tr style=\"text-align: right;\">\n",
       "      <th></th>\n",
       "      <th>ResourceGroup</th>\n",
       "      <th>Resource Name</th>\n",
       "      <th>Tag Master Value based on ResourceGroup Match</th>\n",
       "      <th>Tag Master Value based on ResourceName Match</th>\n",
       "    </tr>\n",
       "  </thead>\n",
       "  <tbody>\n",
       "    <tr>\n",
       "      <th>0</th>\n",
       "      <td>HCC</td>\n",
       "      <td>asausprodhcc</td>\n",
       "      <td>HCC</td>\n",
       "      <td>HCC</td>\n",
       "    </tr>\n",
       "    <tr>\n",
       "      <th>1</th>\n",
       "      <td>Shared-Services</td>\n",
       "      <td>storausdeploytest</td>\n",
       "      <td>Shared</td>\n",
       "      <td></td>\n",
       "    </tr>\n",
       "    <tr>\n",
       "      <th>2</th>\n",
       "      <td>Shared-Services</td>\n",
       "      <td>Tenant</td>\n",
       "      <td>Shared</td>\n",
       "      <td></td>\n",
       "    </tr>\n",
       "    <tr>\n",
       "      <th>3</th>\n",
       "      <td>shared-services</td>\n",
       "      <td>aspausiso</td>\n",
       "      <td>Shared</td>\n",
       "      <td></td>\n",
       "    </tr>\n",
       "    <tr>\n",
       "      <th>4</th>\n",
       "      <td>Test</td>\n",
       "      <td>storwederan</td>\n",
       "      <td>pb3Test</td>\n",
       "      <td></td>\n",
       "    </tr>\n",
       "    <tr>\n",
       "      <th>...</th>\n",
       "      <td>...</td>\n",
       "      <td>...</td>\n",
       "      <td>...</td>\n",
       "      <td>...</td>\n",
       "    </tr>\n",
       "    <tr>\n",
       "      <th>4404</th>\n",
       "      <td>absa</td>\n",
       "      <td>aspweg1</td>\n",
       "      <td>Absa</td>\n",
       "      <td></td>\n",
       "    </tr>\n",
       "    <tr>\n",
       "      <th>4405</th>\n",
       "      <td>absa</td>\n",
       "      <td>waweabsacloudqa</td>\n",
       "      <td>Absa</td>\n",
       "      <td>Absa</td>\n",
       "    </tr>\n",
       "    <tr>\n",
       "      <th>4406</th>\n",
       "      <td>absa</td>\n",
       "      <td>waweinvestecadmin</td>\n",
       "      <td>Absa</td>\n",
       "      <td>Investec</td>\n",
       "    </tr>\n",
       "    <tr>\n",
       "      <th>4407</th>\n",
       "      <td>absa</td>\n",
       "      <td>waweinvestecprod</td>\n",
       "      <td>Absa</td>\n",
       "      <td>Investec</td>\n",
       "    </tr>\n",
       "    <tr>\n",
       "      <th>4408</th>\n",
       "      <td>absa</td>\n",
       "      <td>wawermbadmin</td>\n",
       "      <td>Absa</td>\n",
       "      <td>RMB</td>\n",
       "    </tr>\n",
       "  </tbody>\n",
       "</table>\n",
       "<p>4409 rows × 4 columns</p>\n",
       "</div>"
      ],
      "text/plain": [
       "        ResourceGroup      Resource Name  \\\n",
       "0                 HCC       asausprodhcc   \n",
       "1     Shared-Services  storausdeploytest   \n",
       "2     Shared-Services             Tenant   \n",
       "3     shared-services          aspausiso   \n",
       "4                Test        storwederan   \n",
       "...               ...                ...   \n",
       "4404             absa            aspweg1   \n",
       "4405             absa    waweabsacloudqa   \n",
       "4406             absa  waweinvestecadmin   \n",
       "4407             absa   waweinvestecprod   \n",
       "4408             absa       wawermbadmin   \n",
       "\n",
       "     Tag Master Value based on ResourceGroup Match  \\\n",
       "0                                              HCC   \n",
       "1                                           Shared   \n",
       "2                                           Shared   \n",
       "3                                           Shared   \n",
       "4                                          pb3Test   \n",
       "...                                            ...   \n",
       "4404                                          Absa   \n",
       "4405                                          Absa   \n",
       "4406                                          Absa   \n",
       "4407                                          Absa   \n",
       "4408                                          Absa   \n",
       "\n",
       "     Tag Master Value based on ResourceName Match  \n",
       "0                                             HCC  \n",
       "1                                                  \n",
       "2                                                  \n",
       "3                                                  \n",
       "4                                                  \n",
       "...                                           ...  \n",
       "4404                                               \n",
       "4405                                         Absa  \n",
       "4406                                     Investec  \n",
       "4407                                     Investec  \n",
       "4408                                          RMB  \n",
       "\n",
       "[4409 rows x 4 columns]"
      ]
     },
     "execution_count": 196,
     "metadata": {},
     "output_type": "execute_result"
    }
   ],
   "source": [
    "master_values_df = pd.read_csv('./result/Tag Master Values.csv')\n",
    "\n",
    "def get_suggestion(test_resource_group, test_resource_name, master_values):\n",
    "    result = {}\n",
    "    def my_filter(char):\n",
    "        if char in string.ascii_letters + string.digits:\n",
    "            return True\n",
    "        return False\n",
    "    for i in range(len(test_resource_group)):\n",
    "        tmp1, tmp2 = '', ''\n",
    "        for m in master_values:\n",
    "            master_value = ''.join(filter(my_filter, m.lower()))\n",
    "            group = ''.join(filter(my_filter, test_resource_group[i].lower()))\n",
    "            name = ''.join(filter(my_filter, test_resource_name[i].lower()))\n",
    "            match1 = (master_value in group or group in master_value)\n",
    "            match2 = (master_value in name or name in master_value)\n",
    "            if match1 & match2:\n",
    "                tmp1 = tmp2 = m\n",
    "            elif match1:\n",
    "                tmp1 = m\n",
    "            elif match2:\n",
    "                tmp2 = m\n",
    "        result[i] = (tmp1, tmp2)\n",
    "    return result\n",
    "\n",
    "\n",
    "suggestion_dict = get_suggestion(data_suggest['ResourceGroup'].astype(str).tolist(), data_suggest['Resource Name'].astype(str).tolist(),\n",
    "                                 master_values_df['Tag Master Value'].astype(str).tolist())\n",
    "suggestion_df = pd.DataFrame.from_dict(suggestion_dict, orient='index')\n",
    "suggestion_df.columns = ['Tag Master Value based on ResourceGroup Match', 'Tag Master Value based on ResourceName Match']\n",
    "suggestion_df = pd.concat([data_suggest.loc[:, ['ResourceGroup', 'Resource Name']], suggestion_df], axis=1)\n",
    "suggestion_df.to_csv('./result/Suggestion.csv', index=False, header=True)\n",
    "suggestion_df"
   ]
  }
 ],
 "metadata": {
  "kernelspec": {
   "display_name": "Python 3.9.2 ('vv')",
   "language": "python",
   "name": "python3"
  },
  "language_info": {
   "codemirror_mode": {
    "name": "ipython",
    "version": 3
   },
   "file_extension": ".py",
   "mimetype": "text/x-python",
   "name": "python",
   "nbconvert_exporter": "python",
   "pygments_lexer": "ipython3",
   "version": "3.9.2"
  },
  "orig_nbformat": 4,
  "vscode": {
   "interpreter": {
    "hash": "b5ad64190e4e8f4529ee44c4e22dd2be8cd2c7bd546daa6b217e08480c94a7a6"
   }
  }
 },
 "nbformat": 4,
 "nbformat_minor": 2
}
