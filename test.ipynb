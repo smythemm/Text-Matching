{
 "cells": [
  {
   "cell_type": "code",
   "execution_count": 1,
   "metadata": {},
   "outputs": [],
   "source": [
    "import datrie\n",
    "import string\n",
    "import pandas as pd\n",
    "import numpy as np\n",
    "import numba as nb\n",
    "import os\n",
    "import warnings\n",
    "\n",
    "from numba import njit,jit\n",
    "from numba.typed import Dict, List\n",
    "from numba import types\n",
    "from collections import namedtuple\n",
    "\n",
    "warnings.filterwarnings('ignore')\n",
    "pd.set_option('display.max_columns', None)"
   ]
  },
  {
   "cell_type": "markdown",
   "metadata": {},
   "source": [
    "# ========== 3.1 Tag Name to Tag Master Name Mapping =========="
   ]
  },
  {
   "cell_type": "markdown",
   "metadata": {},
   "source": [
    "- Load all dataset"
   ]
  },
  {
   "cell_type": "code",
   "execution_count": 2,
   "metadata": {},
   "outputs": [],
   "source": [
    "df_list = []\n",
    "for dirpath, dirnames, filenames in os.walk('data'):\n",
    "    for filename in filenames:\n",
    "        df = pd.read_csv(dirpath+'/'+filename, low_memory=False, header=1)\n",
    "        df = df[['Date', 'AccountId', 'AccountName', 'DepartmentId', 'DepartmentName', 'InstanceId', 'ResourceGroup', 'Tags']]\n",
    "        df['ResourceName'] = df['InstanceId'].str.split('/').apply(lambda x: x[-1])\n",
    "        df_list.append(df.drop(columns=['InstanceId']))\n",
    "raw_data = pd.concat(df_list)"
   ]
  },
  {
   "cell_type": "code",
   "execution_count": 3,
   "metadata": {},
   "outputs": [],
   "source": [
    "data = raw_data.dropna(subset=['Tags', 'ResourceGroup']).reset_index()"
   ]
  },
  {
   "cell_type": "code",
   "execution_count": 5,
   "metadata": {},
   "outputs": [
    {
     "data": {
      "text/plain": [
       "['Client: Internal', 'Environment: Production', 'Type: Shared']"
      ]
     },
     "execution_count": 5,
     "metadata": {},
     "output_type": "execute_result"
    }
   ],
   "source": [
    "x = data.iloc[0]['Tags']\n",
    "x = x.replace('\"', '')\n",
    "x = x[3:-1]\n",
    "x.split(',  ')"
   ]
  },
  {
   "cell_type": "code",
   "execution_count": 4,
   "metadata": {},
   "outputs": [],
   "source": [
    "# all_tags_list = data['Tags'].str.replace(' ', '').tolist()\n",
    "# all_tags_list = df['Tags'].apply(lambda x: json.loads(x)).tolist()\n",
    "# all_tags_list = data['Tags'].apply(lambda x: namedtuple('Tags', json.loads(x).keys())._make(json.loads(x))).tolist()\n",
    "# all_tags_list = data['Tags'].apply(lambda x: )"
   ]
  },
  {
   "cell_type": "code",
   "execution_count": 6,
   "metadata": {},
   "outputs": [],
   "source": [
    "# from numba import guvectorize\n",
    "# numba_dict = Dict.empty(key_type=types.int64, value_type=types.ListType(types.string))\n",
    "numba_dict = Dict.empty(key_type=types.int64, value_type=types.UniTuple(types.string, 2))\n",
    "all_tags_list = data['Tags'].tolist()\n",
    "# numba_list = List()\n",
    "# numba_list.append('asd')\n",
    "# numba_list.pop()\n",
    "# for tags in all_tags_list:\n",
    "#     numba_list.append(tags)\n",
    "\n",
    "@jit(nopython=True, nogil=True, parallel=True)\n",
    "# @guvectorize(\"numba.types.DictType(int64, UniTuple(unicode_type, 2))(ListType(unicode_type),DictType(int64, UniTuple(unicode_type, 2)))\", target='cpu')\n",
    "def get_all_tags_typed_dict(all_tags_list, numba_dict):\n",
    "    index = np.int64(0)\n",
    "    for tags in all_tags_list:\n",
    "        tags = tags.replace('\"', '')\n",
    "        tags = tags[3:-1].split(',  ')\n",
    "        for tag in tags:\n",
    "            tmp = tag.split(': ')\n",
    "            numba_dict[index] = (tmp[0], tmp[1])\n",
    "            index += 1\n",
    "\n",
    "    return numba_dict\n",
    "\n",
    "\n",
    "all_tags_typed_dict = get_all_tags_typed_dict(all_tags_list, numba_dict)"
   ]
  },
  {
   "cell_type": "code",
   "execution_count": 7,
   "metadata": {},
   "outputs": [],
   "source": [
    "# all_tags_dict = {}\n",
    "# for key in all_tags_typed_dict.keys():\n",
    "#     all_tags_dict[key] = np.array(all_tags_typed_dict[key]).astype('<U64')\n",
    "# all_tags_dict = pd.DataFrame(all_tags_dict)\n",
    "# all_tags_dict = pd.DataFrame.from_dict(all_tags_dict, orient='index').T\n",
    "all_tags_dict = pd.DataFrame.from_dict(all_tags_typed_dict, orient='index')\n",
    "all_tags_dict.columns = ['Tag Name', 'Tag Value']"
   ]
  },
  {
   "cell_type": "code",
   "execution_count": 8,
   "metadata": {},
   "outputs": [],
   "source": [
    "tag_names = all_tags_dict.groupby('Tag Name')['Tag Value'].count()\n",
    "tag_names = tag_names[tag_names > 5].to_dict()  # only use the Tag Names appeared more than 5 times\n",
    "tag_values = all_tags_dict.groupby('Tag Value')['Tag Name'].count()\n",
    "tag_values = tag_values[tag_values > 5].to_dict()  # only use the Tag Names appeared more than 5 times\n",
    "# typed_tag_names = Dict.empty(types.unicode_type, types.int64)\n",
    "# for key in tag_names.keys():\n",
    "#     typed_tag_names[key] = np.int64(tag_names[key])"
   ]
  },
  {
   "cell_type": "code",
   "execution_count": 9,
   "metadata": {},
   "outputs": [],
   "source": [
    "def Levenshtein_Dynamic(str1, str2):\n",
    "    str1, str2 = ''.join(filter(str.isalnum, str1.lower())), ''.join(filter(str.isalnum, str2.lower()))\n",
    "    if str1 in str2 or str2 in str1:\n",
    "        return 0\n",
    "\n",
    "    len_str1 = len(str1) + 1\n",
    "    len_str2 = len(str2) + 1\n",
    "    # 创建矩阵\n",
    "    matrix = [0 for n in range(len_str1 * len_str2)]\n",
    "    #矩阵的第一行\n",
    "    for i in range(len_str1):\n",
    "        matrix[i] = i\n",
    "    # 矩阵的第一列\n",
    "    for j in range(0, len(matrix), len_str1):\n",
    "        if j % len_str1 == 0:\n",
    "            matrix[j] = j // len_str1\n",
    "    # 根据状态转移方程逐步得到编辑距离\n",
    "    for i in range(1, len_str1):\n",
    "        for j in range(1, len_str2):\n",
    "            if str1[i - 1] == str2[j - 1]:\n",
    "                cost = 0\n",
    "            else:\n",
    "                cost = 1\n",
    "            matrix[j * len_str1 + i] = min(matrix[(j - 1) * len_str1 + i] + 1, matrix[j * len_str1 + (i - 1)] + 1,\n",
    "                                           matrix[(j - 1) * len_str1 + (i - 1)] + cost)\n",
    "    if matrix[-1] > min(len(str1), len(str2)) / 2:\n",
    "        return 1000\n",
    "    return matrix[-1]  # 返回矩阵的最后一个值，也就是编辑距离"
   ]
  },
  {
   "cell_type": "code",
   "execution_count": 69,
   "metadata": {},
   "outputs": [
    {
     "name": "stdout",
     "output_type": "stream",
     "text": [
      "Converged after 29 iterations.\n",
      " - *Client:* Clien, Client, client, x_Client\n",
      " - *ClusterId:* ClusterId\n",
      " - *ClusterName:* ClusterName\n",
      " - *Creator:* Creator, DatabricksInstancePoolCreatorId, x_Creator\n",
      " - *DataFactoryEntityResourceId:* DataFactoryEntityResourceId\n",
      " - *Databricks-ElasticDisk:* Databricks-ElasticDisk\n",
      " - *DatabricksInstanceGroupId:* DatabricksInstanceGroupId\n",
      " - *DatabricksInstancePoolId:* DatabricksInstancePoolId\n",
      " - *Environment:* DatabricksEnvironment, Enviornment, Environment, databricks-environment, environment\n",
      " - *JobId:* JobId\n",
      " - *MappingDataflowRunId:* MappingDataflowRunId\n",
      " - *Product:* Product\n",
      " - *ResourceClass:* ResourceClass\n",
      " - *RunName:* RunName\n",
      " - *Service:* Service, x_Service\n",
      " - *SqlEndpointId:* SqlEndpointId\n",
      " - *Type:* Type, type, x_Type\n",
      " - *Vendor:* Vendor\n",
      " - *application:* application\n",
      " - *createdBy:* createdBy\n",
      " - *databricks-instance-name:* databricks-instance-name\n",
      " - *dbsql-channel:* dbsql-channel\n",
      " - *hidden-link:/subscriptions/f6650bec-0252-45ce-b7ce-8fff251c4dad/resourcegroups/OldMutual/providers/microsoft.insights/components/waweprodom:* hidden-link:/subscriptions/f6650bec-0252-45ce-b7ce-8fff251c4dad/resourcegroups/OldMutual/providers/microsoft.insights/components/waweprodom\n",
      " - *hidden-link:/subscriptions/f6650bec-0252-45ce-b7ce-8fff251c4dad/resourcegroups/OldMutual/providers/microsoft.insights/webtests/om-avail-waweprodom:* hidden-link:/subscriptions/f6650bec-0252-45ce-b7ce-8fff251c4dad/resourcegroups/OldMutual/providers/microsoft.insights/webtests/om-avail-waweprodom\n",
      " - *ms-resource-usage:* ms-resource-usage\n"
     ]
    }
   ],
   "source": [
    "import numpy as np\n",
    "import sklearn.cluster\n",
    "\n",
    "# words = \"Client clien client Shared\".split(\" \") #Replace this line\n",
    "words = list(tag_names.keys())\n",
    "words = np.asarray(words)  #So that indexing with a list will work\n",
    "lev_similarity = [[-Levenshtein_Dynamic(w1, w2) for w2 in words] for w1 in words]\n",
    "x = list(tag_names.values())\n",
    "x_sum = np.sum(x)\n",
    "# y = np.argsort(x)\n",
    "# preference = [0] * len(x)\n",
    "# j = len(x)\n",
    "# for i in y:\n",
    "#     preference[i] = -j\n",
    "#     j -= 1\n",
    "preference = [-(1 - i / x_sum)*3 for i in x]\n",
    "\n",
    "master_names_dict = {}\n",
    "affprop = sklearn.cluster.AffinityPropagation(affinity=\"precomputed\", damping=0.5, preference=preference, max_iter=1000, convergence_iter=20)\n",
    "affprop.fit(lev_similarity)\n",
    "tag_master_names = {}\n",
    "for cluster_id in np.unique(affprop.labels_):\n",
    "    exemplar = words[affprop.cluster_centers_indices_[cluster_id]]\n",
    "    cluster = np.unique(words[np.nonzero(affprop.labels_ == cluster_id)])\n",
    "    tag_master_names[exemplar] = cluster.tolist()\n",
    "    cluster_str = \", \".join(cluster)\n",
    "    print(\" - *%s:* %s\" % (exemplar, cluster_str))\n",
    "    master_names_dict[exemplar] = cluster\n",
    "    # for c in cluster:\n",
    "    #     print(Levenshtein_Dynamic(exemplar, c), end=', ')\n",
    "    # print()"
   ]
  },
  {
   "cell_type": "code",
   "execution_count": 105,
   "metadata": {},
   "outputs": [
    {
     "data": {
      "text/plain": [
       "28"
      ]
     },
     "execution_count": 105,
     "metadata": {},
     "output_type": "execute_result"
    }
   ],
   "source": [
    "len(x[0])"
   ]
  },
  {
   "cell_type": "code",
   "execution_count": 33,
   "metadata": {},
   "outputs": [],
   "source": [
    "master_names_df = pd.DataFrame.from_dict(master_names_dict, orient='index')\n",
    "master_names_df.to_csv('Tag Master Names.csv', sep=',', header=False, index=True)"
   ]
  },
  {
   "cell_type": "code",
   "execution_count": 108,
   "metadata": {},
   "outputs": [
    {
     "data": {
      "text/plain": [
       "{'Development': 24628,\n",
       " 'PoV': 21485,\n",
       " 'Production': 149541,\n",
       " 'Shared': 785,\n",
       " 'workerenv-1002506118669650': 420,\n",
       " 'workerenv-1007669364905573': 413,\n",
       " 'workerenv-1273686276464348': 121,\n",
       " 'workerenv-128941113832063': 477,\n",
       " 'workerenv-1310124120340684': 313,\n",
       " 'workerenv-1363511407098515': 428,\n",
       " 'workerenv-1423586859234944': 371,\n",
       " 'workerenv-158615000393787': 422,\n",
       " 'workerenv-1713528652783932': 406,\n",
       " 'workerenv-1778456081878316': 454,\n",
       " 'workerenv-1810343225777445': 156,\n",
       " 'workerenv-1850437238891750': 366,\n",
       " 'workerenv-1934208234354281': 458,\n",
       " 'workerenv-204037881721143': 448,\n",
       " 'workerenv-2040919574862727': 291,\n",
       " 'workerenv-2140633197113253': 432,\n",
       " 'workerenv-2151962545592826': 518,\n",
       " 'workerenv-2163878406020497': 402,\n",
       " 'workerenv-2177263479227743': 484,\n",
       " 'workerenv-2227347226153301': 121,\n",
       " 'workerenv-2233824289521111': 482,\n",
       " 'workerenv-2395893230463898': 140,\n",
       " 'workerenv-2438246694412658': 467,\n",
       " 'workerenv-2516954196764457': 438,\n",
       " 'workerenv-2577205424225732': 489,\n",
       " 'workerenv-2657738653392463': 135,\n",
       " 'workerenv-2731263093475652': 198,\n",
       " 'workerenv-2744960613069550': 376,\n",
       " 'workerenv-2810281780655732': 435,\n",
       " 'workerenv-2858132892501226': 439,\n",
       " 'workerenv-2958764425417602': 462,\n",
       " 'workerenv-2982885125875774': 344,\n",
       " 'workerenv-3003258758209901': 134,\n",
       " 'workerenv-3090423061016529': 174,\n",
       " 'workerenv-3111068691735575': 403,\n",
       " 'workerenv-315019548189080': 308,\n",
       " 'workerenv-3153309501757927': 394,\n",
       " 'workerenv-3187949939671457': 102,\n",
       " 'workerenv-3222153889882050': 360,\n",
       " 'workerenv-3312768195597982': 387,\n",
       " 'workerenv-3466077702853258': 367,\n",
       " 'workerenv-3554953674593570': 185,\n",
       " 'workerenv-3592024520460269': 144,\n",
       " 'workerenv-3604774459775628': 499,\n",
       " 'workerenv-3669509103113632': 403,\n",
       " 'workerenv-3725984774802354': 422,\n",
       " 'workerenv-3847320298009509': 299,\n",
       " 'workerenv-3954395281335480': 130,\n",
       " 'workerenv-4032668201854273': 487,\n",
       " 'workerenv-4051146098961613': 120,\n",
       " 'workerenv-412404057474058': 452,\n",
       " 'workerenv-4403202569514300': 100,\n",
       " 'workerenv-4502666481572054': 490,\n",
       " 'workerenv-4581471372300228': 551,\n",
       " 'workerenv-458749150934762': 436,\n",
       " 'workerenv-466094634020142': 370,\n",
       " 'workerenv-4724226561595366': 108,\n",
       " 'workerenv-4761979565943687': 385,\n",
       " 'workerenv-4892853411059746': 345,\n",
       " 'workerenv-4968498897799854': 93,\n",
       " 'workerenv-5029691585879574': 506,\n",
       " 'workerenv-5111750391578437': 417,\n",
       " 'workerenv-5204976342862539': 160,\n",
       " 'workerenv-5208493230465963': 104,\n",
       " 'workerenv-5247275204314227': 438,\n",
       " 'workerenv-5248233386891884': 330,\n",
       " 'workerenv-5385362902671165': 393,\n",
       " 'workerenv-5495438018634049': 121,\n",
       " 'workerenv-5508295027637360': 401,\n",
       " 'workerenv-553232511917420': 104,\n",
       " 'workerenv-5579559375267489': 368,\n",
       " 'workerenv-5654657722535137': 138,\n",
       " 'workerenv-5703602958970093': 393,\n",
       " 'workerenv-574557080833071': 111,\n",
       " 'workerenv-5764638750743335': 366,\n",
       " 'workerenv-5798870673344476': 147,\n",
       " 'workerenv-5859520085131419': 344,\n",
       " 'workerenv-5920328151966209': 317,\n",
       " 'workerenv-6053806906459490': 438,\n",
       " 'workerenv-6092653487746171': 16,\n",
       " 'workerenv-6104365433137098': 156,\n",
       " 'workerenv-6104618474476926': 363,\n",
       " 'workerenv-6269464501349726': 323,\n",
       " 'workerenv-6292439050613060': 371,\n",
       " 'workerenv-632107320593239': 520,\n",
       " 'workerenv-6355321660608374': 447,\n",
       " 'workerenv-6443074064097767': 393,\n",
       " 'workerenv-6456958296422947': 429,\n",
       " 'workerenv-6505950290844419': 354,\n",
       " 'workerenv-650684151438657': 396,\n",
       " 'workerenv-6576215539235027': 398,\n",
       " 'workerenv-6697065299312999': 177,\n",
       " 'workerenv-6758812844137704': 337,\n",
       " 'workerenv-6978713066763976': 121,\n",
       " 'workerenv-6978842574339003': 390,\n",
       " 'workerenv-6979585396003930': 343,\n",
       " 'workerenv-7019074392263122': 344,\n",
       " 'workerenv-7037084254737730': 411,\n",
       " 'workerenv-7056577419766633': 418,\n",
       " 'workerenv-7059907974529444': 471,\n",
       " 'workerenv-7075248487674008': 87,\n",
       " 'workerenv-7203669199398631': 351,\n",
       " 'workerenv-7222982218656172': 336,\n",
       " 'workerenv-7366650067418225': 495,\n",
       " 'workerenv-7444131897756412': 162,\n",
       " 'workerenv-7497697519468618': 425,\n",
       " 'workerenv-7536566174760617': 395,\n",
       " 'workerenv-7550154956125477': 435,\n",
       " 'workerenv-7614165065561974': 318,\n",
       " 'workerenv-7640980093897862': 388,\n",
       " 'workerenv-76796719316488': 446,\n",
       " 'workerenv-7680025368201244': 422,\n",
       " 'workerenv-7681687238374239': 371,\n",
       " 'workerenv-7844318562657206': 334,\n",
       " 'workerenv-7856515936932418': 78,\n",
       " 'workerenv-7859005360166913': 403,\n",
       " 'workerenv-7869674257971149': 443,\n",
       " 'workerenv-7888377160602566': 373,\n",
       " 'workerenv-7920745240228920': 406,\n",
       " 'workerenv-8037572449893443': 510,\n",
       " 'workerenv-8050630053976927': 397,\n",
       " 'workerenv-8099632477596584': 162,\n",
       " 'workerenv-810359294132102': 452,\n",
       " 'workerenv-8200165613459222': 358,\n",
       " 'workerenv-8270494016050998': 203,\n",
       " 'workerenv-8424334860389962': 349,\n",
       " 'workerenv-8546263734567611': 569,\n",
       " 'workerenv-8558981824044187': 5067,\n",
       " 'workerenv-8581034861125471': 428,\n",
       " 'workerenv-8640995755654898': 445,\n",
       " 'workerenv-8715826868439450': 444,\n",
       " 'workerenv-8885066870139312': 444,\n",
       " 'workerenv-913550462562250': 385}"
      ]
     },
     "execution_count": 108,
     "metadata": {},
     "output_type": "execute_result"
    }
   ],
   "source": [
    "test_values = all_tags_dict[all_tags_dict['Tag Name'].str.contains('|'.join(tag_master_names['Environment']))].dropna()\n",
    "test_values = test_values.groupby('Tag Value')['Tag Name'].count()\n",
    "if '' in test_values.keys():\n",
    "    test_values.pop('')\n",
    "test_values = test_values.to_dict()\n",
    "test_values"
   ]
  },
  {
   "cell_type": "code",
   "execution_count": 61,
   "metadata": {},
   "outputs": [
    {
     "name": "stdout",
     "output_type": "stream",
     "text": [
      "Converged after 50 iterations.\n",
      " - *Cloud:* Cloud\n",
      " - *Standard 2B Model:* Standard 2B Model\n",
      " - *Standard F2B Model:* Standard F2B Model\n",
      " - *Standard Model- F2B Model:* Standard Model- F2B Model\n",
      " - *atabricks:* atabricks\n"
     ]
    }
   ],
   "source": [
    "words = list(test_values.keys())\n",
    "words = np.asarray(words)  #So that indexing with a list will work\n",
    "lev_similarity = [[-Levenshtein_Dynamic(w1.lower(), w2.lower()) for w2 in words] for w1 in words]\n",
    "x = list(test_values.values())\n",
    "x_sum = np.sum(x)\n",
    "y = np.argsort(x)\n",
    "# preference = [0] * len(x)\n",
    "# j = len(x)\n",
    "# for i in y:\n",
    "#     preference[i] = -j\n",
    "#     j -= 1\n",
    "preference = [-(1-i/x_sum) for i in x]\n",
    "\n",
    "master_values_dict = {}\n",
    "affprop = sklearn.cluster.AffinityPropagation(affinity=\"precomputed\",\n",
    "                                              damping=0.5,\n",
    "                                              verbose=True,\n",
    "                                              preference=preference,\n",
    "                                              max_iter=1000,\n",
    "                                              convergence_iter=50)\n",
    "affprop.fit(lev_similarity)\n",
    "for cluster_id in np.unique(affprop.labels_):\n",
    "    exemplar = words[affprop.cluster_centers_indices_[cluster_id]]\n",
    "    cluster = np.unique(words[np.nonzero(affprop.labels_ == cluster_id)])\n",
    "    cluster_str = \", \".join(cluster)\n",
    "    print(\" - *%s:* %s\" % (exemplar, cluster_str))\n",
    "    master_values_dict[exemplar] = cluster\n",
    "    # for c in cluster:\n",
    "    #     print(jaro.jaro_winkler_metric(exemplar.lower(), c.lower()), end=', ')\n",
    "    # print()"
   ]
  },
  {
   "cell_type": "code",
   "execution_count": 49,
   "metadata": {},
   "outputs": [],
   "source": [
    "master_values_df = pd.DataFrame.from_dict(master_values_dict, orient='index')\n",
    "master_values_df.to_csv('Tag Master Values.csv', sep=',', header=False, index=True)"
   ]
  },
  {
   "cell_type": "code",
   "execution_count": 166,
   "metadata": {},
   "outputs": [
    {
     "ename": "TypeError",
     "evalue": "unsupported operand type(s) for -: 'tuple' and 'int'",
     "output_type": "error",
     "traceback": [
      "\u001b[1;31m---------------------------------------------------------------------------\u001b[0m",
      "\u001b[1;31mTypeError\u001b[0m                                 Traceback (most recent call last)",
      "\u001b[1;32md:\\Files\\MessCode\\VSCode\\dissertation\\test.ipynb Cell 14'\u001b[0m in \u001b[0;36m<module>\u001b[1;34m\u001b[0m\n\u001b[0;32m     <a href='vscode-notebook-cell:/d%3A/Files/MessCode/VSCode/dissertation/test.ipynb#ch0000017?line=12'>13</a>\u001b[0m             \u001b[39melif\u001b[39;00m M[i][j] \u001b[39m==\u001b[39m xmax:\n\u001b[0;32m     <a href='vscode-notebook-cell:/d%3A/Files/MessCode/VSCode/dissertation/test.ipynb#ch0000017?line=13'>14</a>\u001b[0m                 xindex\u001b[39m.\u001b[39mappend((i, j))\n\u001b[1;32m---> <a href='vscode-notebook-cell:/d%3A/Files/MessCode/VSCode/dissertation/test.ipynb#ch0000017?line=14'>15</a>\u001b[0m lcstr \u001b[39m=\u001b[39m \u001b[39m\"\u001b[39m\u001b[39m,\u001b[39m\u001b[39m\"\u001b[39m\u001b[39m.\u001b[39mjoin([str1[i \u001b[39m-\u001b[39m xmax:i] \u001b[39mfor\u001b[39;00m i \u001b[39min\u001b[39;00m xindex])\n\u001b[0;32m     <a href='vscode-notebook-cell:/d%3A/Files/MessCode/VSCode/dissertation/test.ipynb#ch0000017?line=15'>16</a>\u001b[0m \u001b[39mprint\u001b[39m(lcstr)\n",
      "\u001b[1;32md:\\Files\\MessCode\\VSCode\\dissertation\\test.ipynb Cell 14'\u001b[0m in \u001b[0;36m<listcomp>\u001b[1;34m(.0)\u001b[0m\n\u001b[0;32m     <a href='vscode-notebook-cell:/d%3A/Files/MessCode/VSCode/dissertation/test.ipynb#ch0000017?line=12'>13</a>\u001b[0m             \u001b[39melif\u001b[39;00m M[i][j] \u001b[39m==\u001b[39m xmax:\n\u001b[0;32m     <a href='vscode-notebook-cell:/d%3A/Files/MessCode/VSCode/dissertation/test.ipynb#ch0000017?line=13'>14</a>\u001b[0m                 xindex\u001b[39m.\u001b[39mappend((i, j))\n\u001b[1;32m---> <a href='vscode-notebook-cell:/d%3A/Files/MessCode/VSCode/dissertation/test.ipynb#ch0000017?line=14'>15</a>\u001b[0m lcstr \u001b[39m=\u001b[39m \u001b[39m\"\u001b[39m\u001b[39m,\u001b[39m\u001b[39m\"\u001b[39m\u001b[39m.\u001b[39mjoin([str1[i \u001b[39m-\u001b[39;49m xmax:i] \u001b[39mfor\u001b[39;00m i \u001b[39min\u001b[39;00m xindex])\n\u001b[0;32m     <a href='vscode-notebook-cell:/d%3A/Files/MessCode/VSCode/dissertation/test.ipynb#ch0000017?line=15'>16</a>\u001b[0m \u001b[39mprint\u001b[39m(lcstr)\n",
      "\u001b[1;31mTypeError\u001b[0m: unsupported operand type(s) for -: 'tuple' and 'int'"
     ]
    }
   ],
   "source": [
    "str1 = \"acbcbcef\"\n",
    "str2 = \"abcbced\"\n",
    "M = [[0 for i in range(len(str1) + 1)] for i in range(len(str2) + 1)]\n",
    "xmax = 0\n",
    "xindex = []\n",
    "for i in range(1, len(str2) + 1):\n",
    "    for j in range(1, len(str1) + 1):\n",
    "        if (str2[i - 1] == str1[j - 1]):\n",
    "            M[i][j] = M[i - 1][j - 1] + 1\n",
    "            if M[i][j] > xmax:\n",
    "                xmax = M[i][j]\n",
    "                xindex = [(i, j)]\n",
    "            elif M[i][j] == xmax:\n",
    "                xindex.append((i, j))\n",
    "lcstr = \",\".join([str1[i - xmax:i] for i in xindex])\n",
    "print(lcstr)"
   ]
  },
  {
   "cell_type": "code",
   "execution_count": 16,
   "metadata": {},
   "outputs": [
    {
     "data": {
      "text/plain": [
       "7"
      ]
     },
     "execution_count": 16,
     "metadata": {},
     "output_type": "execute_result"
    }
   ],
   "source": [
    "Levenshtein_Dynamic('DatabricksInstancePoolId'.lower(), 'databricks-instance-name')"
   ]
  },
  {
   "cell_type": "code",
   "execution_count": 10,
   "metadata": {},
   "outputs": [
    {
     "name": "stdout",
     "output_type": "stream",
     "text": [
      "search clien: \n",
      "ABSACLOUDQA 2310\n",
      "ABSARBB 1651\n",
      "ABSACF 1588\n",
      "ABSACLOUD313 409\n",
      "ABSA 228\n"
     ]
    }
   ],
   "source": [
    "from Trie import Node,add, search\n",
    "def generate_tree_hash(tag_names):\n",
    "    n = Node(\"\")\n",
    "    for tag in tag_names:\n",
    "        add(n, tag, weight=tag_names[tag])\n",
    "    return n\n",
    "\n",
    "n = generate_tree_hash(tag_values)\n",
    "print(\"search clien: \")\n",
    "for key, node in search(n, u'ABSA', is_case_sensitive=True):\n",
    "    print(key, node.weight)\n"
   ]
  },
  {
   "cell_type": "code",
   "execution_count": 147,
   "metadata": {},
   "outputs": [],
   "source": [
    "def generate_tree(tag_names, file_name, save):\n",
    "    trie = datrie.Trie(string.ascii_letters+string.digits+' -_')\n",
    "    for tag in tag_names:\n",
    "        trie[tag] = tag_names[tag]\n",
    "    if save:\n",
    "        trie.save(file_name)\n",
    "    return trie\n",
    "\n",
    "# trie_tag_names = generate_tree(tag_names, 'Tag Name Trie.txt', True)\n",
    "trie_tag_values = generate_tree(test_values, 'Tag Value Trie.txt', True)"
   ]
  },
  {
   "cell_type": "code",
   "execution_count": 149,
   "metadata": {},
   "outputs": [
    {
     "name": "stdout",
     "output_type": "stream",
     "text": [
      "ABSACLOUD313 [['ABSA', 1000, 228], ['ABSACLOUD313', 0, 409], ['ABSACLOUDQA', 3, 2310], ['ABSACF', 1000, 1588], ['ARM', 1000, 2567], ['Absa', 1000, 11034], ['HC', 1000, 453], ['RMB', 1000, 4038]]\n"
     ]
    }
   ],
   "source": [
    "from Get_Similar_Words import search\n",
    "\n",
    "# trie_tag_names = datrie.Trie.load('Tag Name Trie.txt')\n",
    "# state_tag_names = datrie.State(trie_tag_names)\n",
    "# state_last_tag_names = datrie.State(trie_tag_names)\n",
    "trie_tag_values = datrie.Trie.load('Tag Value Trie.txt')\n",
    "state_tag_values = datrie.State(trie_tag_values)\n",
    "state_last_tag_values = datrie.State(trie_tag_values)\n",
    "\n",
    "# tag_name = 'clien'\n",
    "# result_tag_names = search(trie_tag_names, state_last_tag_names, state_tag_names, tag_name, tag_name, '', [], {}, 0)\n",
    "# print(tag_name, result_tag_names)\n",
    "tag_value = 'ABSACLOUD313'\n",
    "result_tag_values = search(trie_tag_values, state_last_tag_values, state_tag_values, tag_value, tag_value, '', [], {}, 0)\n",
    "print(tag_value, result_tag_values)"
   ]
  },
  {
   "cell_type": "code",
   "execution_count": 13,
   "metadata": {},
   "outputs": [],
   "source": [
    "# trie_tag_values = datrie.Trie.load('Tag Value Trie.txt')\n",
    "# trie_tag_values.prefix_items(tag_value)"
   ]
  },
  {
   "cell_type": "code",
   "execution_count": 107,
   "metadata": {},
   "outputs": [
    {
     "data": {
      "text/plain": [
       "4"
      ]
     },
     "execution_count": 107,
     "metadata": {},
     "output_type": "execute_result"
    }
   ],
   "source": [
    "import Levenshtein\n",
    "import jaro\n",
    "\n",
    "Levenshtein.distance('Absa'.lower(), 'RMB'.lower())"
   ]
  }
 ],
 "metadata": {
  "kernelspec": {
   "display_name": "Python 3.9.2 ('vv')",
   "language": "python",
   "name": "python3"
  },
  "language_info": {
   "codemirror_mode": {
    "name": "ipython",
    "version": 3
   },
   "file_extension": ".py",
   "mimetype": "text/x-python",
   "name": "python",
   "nbconvert_exporter": "python",
   "pygments_lexer": "ipython3",
   "version": "3.9.2"
  },
  "orig_nbformat": 4,
  "vscode": {
   "interpreter": {
    "hash": "b5ad64190e4e8f4529ee44c4e22dd2be8cd2c7bd546daa6b217e08480c94a7a6"
   }
  }
 },
 "nbformat": 4,
 "nbformat_minor": 2
}
